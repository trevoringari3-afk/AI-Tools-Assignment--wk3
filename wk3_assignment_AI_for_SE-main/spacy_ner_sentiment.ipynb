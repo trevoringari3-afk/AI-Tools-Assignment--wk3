{
 "cells": [
  {
   "cell_type": "markdown",
   "metadata": {},
   "source": [
    "## Task 3: NLP with spaCy (Amazon Reviews)\n",
    "\n",
    "Goal: Extract entities and analyze sentiment.\n",
    "\n",
    "\n",
    "\n",
    "# === Task 3: NLP with spaCy ==="
   ]
  },
  {
   "cell_type": "code",
   "execution_count": null,
   "metadata": {},
   "outputs": [],
   "source": [
    "import spacy\n",
    "\n",
    "from spacy.pipeline import EntityRuler"
   ]
  },
  {
   "cell_type": "markdown",
   "metadata": {},
   "source": [
    "# Load the English model"
   ]
  },
  {
   "cell_type": "code",
   "execution_count": null,
   "metadata": {},
   "outputs": [],
   "source": [
    "nlp = spacy.load(\"en_core_web_sm\")"
   ]
  },
  {
   "cell_type": "markdown",
   "metadata": {},
   "source": [
    "# Create the EntityRuler separately, then add it to the pipeline"
   ]
  },
  {
   "cell_type": "code",
   "execution_count": null,
   "metadata": {},
   "outputs": [],
   "source": [
    "ruler = nlp.add_pipe(\"entity_ruler\", before=\"ner\")"
   ]
  },
  {
   "cell_type": "markdown",
   "metadata": {},
   "source": [
    "# Add custom brand and product patterns"
   ]
  },
  {
   "cell_type": "code",
   "execution_count": null,
   "metadata": {},
   "outputs": [],
   "source": [
    "patterns = [\n",
    "\n",
    "    {\"label\": \"BRAND\", \"pattern\": \"Samsung\"},\n",
    "\n",
    "    {\"label\": \"BRAND\", \"pattern\": \"Apple\"},\n",
    "\n",
    "    {\"label\": \"PRODUCT\", \"pattern\": \"iPhone\"},\n",
    "\n",
    "    {\"label\": \"PRODUCT\", \"pattern\": \"Galaxy\"}\n",
    "\n",
    "]\n",
    "\n",
    "ruler.add_patterns(patterns)"
   ]
  },
  {
   "cell_type": "markdown",
   "metadata": {},
   "source": [
    "# Sample Amazon-like reviews"
   ]
  },
  {
   "cell_type": "code",
   "execution_count": null,
   "metadata": {},
   "outputs": [],
   "source": [
    "reviews = [\n",
    "\n",
    "    \"I love my new Samsung Galaxy, it's amazing!\",\n",
    "\n",
    "    \"The Apple charger broke after one week, terrible quality.\",\n",
    "\n",
    "    \"iPhone 13 camera is perfect and battery life is great.\"\n",
    "\n",
    "]"
   ]
  },
  {
   "cell_type": "markdown",
   "metadata": {},
   "source": [
    "# Simple rule-based sentiment analysis"
   ]
  },
  {
   "cell_type": "code",
   "execution_count": null,
   "metadata": {},
   "outputs": [],
   "source": [
    "pos_words = {\"love\", \"great\", \"perfect\", \"amazing\", \"awesome\", \"excellent\"}\n",
    "\n",
    "neg_words = {\"bad\", \"broke\", \"terrible\", \"poor\", \"disappointed\"}\n",
    "\n",
    "\n",
    "\n",
    "def rule_sentiment(text):\n",
    "\n",
    "    tokens = text.lower().split()\n",
    "\n",
    "    score = sum(w in pos_words for w in tokens) - sum(w in neg_words for w in tokens)\n",
    "\n",
    "    return \"positive\" if score > 0 else (\"negative\" if score < 0 else \"neutral\")"
   ]
  },
  {
   "cell_type": "markdown",
   "metadata": {},
   "source": [
    "# Run the analysis"
   ]
  },
  {
   "cell_type": "code",
   "execution_count": null,
   "metadata": {},
   "outputs": [],
   "source": [
    "for review in reviews:\n",
    "\n",
    "    doc = nlp(review)\n",
    "\n",
    "    ents = [(ent.text, ent.label_) for ent in doc.ents]\n",
    "\n",
    "    print(f\"\\nReview: {review}\")\n",
    "\n",
    "    print(\"Entities:\", ents)\n",
    "\n",
    "    print(\"Sentiment:\", rule_sentiment(review))"
   ]
  }
 ],
 "metadata": {
  "kernelspec": {
   "display_name": "Python 3",
   "language": "python",
   "name": "python3"
  },
  "language_info": {
   "codemirror_mode": {
    "name": "ipython",
    "version": 3
   },
   "file_extension": ".py",
   "mimetype": "text/x-python",
   "name": "python",
   "nbconvert_exporter": "python",
   "pygments_lexer": "ipython3",
   "version": "3.8.5"
  }
 },
 "nbformat": 4,
 "nbformat_minor": 4
}